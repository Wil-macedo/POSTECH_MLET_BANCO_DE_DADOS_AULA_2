{
 "cells": [
  {
   "cell_type": "markdown",
   "metadata": {},
   "source": [
    "# MONGO DB (O BANCO DE DADOS NOSQL MAIS UTILIZADO NO MUNDO) <h6>"
   ]
  },
  {
   "cell_type": "markdown",
   "metadata": {},
   "source": [
    "# O que é NoSQL <h6>\n",
    "\n",
    "* O no SQl surgiu aproximadamente em 2009\n",
    "* Surgiu para suprir as necessidades que os bancos SQL não conseguiam suprir:\n",
    "    - Maior quantidade de dados\n",
    "    - Mais recursos de armazenamento\n",
    "    - Mais recursos para a leitura dos dados.\n",
    "\n"
   ]
  },
  {
   "cell_type": "markdown",
   "metadata": {},
   "source": [
    "# Diferenção entre banco de dados relacionao e NÃO relacional:\n",
    "\n",
    "# BD RELACIONAIS<H6>                                #BD NÃO RELACIONAIS<H6>\n",
    "\n",
    "    - Padrão ANSI                                   - Não seguem um padrão\n",
    "    - Linguagem SQL                                 - Tem sua própria linguagem de consulta\n",
    "    - Armazenamento em tabelas                      - Tem sua própria estrutura de armazenamento\n",
    "    "
   ]
  },
  {
   "cell_type": "markdown",
   "metadata": {},
   "source": [
    "# TIPOS DE BANCOS DE DADOS <h6>\n",
    "\n",
    "\n",
    "***Grafos***: Em um banco orientado a grafos, não existem tabelas, documentos ou qualquer outra estrutura que seja comparável a uma tabela. Neste tipo de banco, tudo são nós (vértices) e relacionamentos (arestas).O mais popular deles é o Neo4j.\n",
    "\n",
    "***Chave / valor***: Todos os registros fazem parte da mesma coleção de elementos. Fazendo uma comparação com os bancos de dados relacionais, é como se o banco de dados inteiro fosse uma única tabela que possui apenas duas colunas: uma chave,e uma outra com valor. Um exemplo desse tipo é o Redis.\n",
    "\n",
    "***Colunar***: A estrutura principal dos bancos colunares é basicamente uma grande tabela. Cada registro pode, ter quantas e quais colunas precisar (schemaless). Os bancos de dados colunares são os que mais se assemelham aos bancos de dados relacionais por terem uma \"tabela\" na sua estrutura, mesmo que, na verdade, sejam muito diferentes, já que os dados estão orientados a colunas internamente. Um exemplo desse tipo é o Cassandra.\n",
    "\n",
    "***Documento***: O banco de dados de estilo de documento usa o que equivale a um objeto como sua menor unidade lógica. E uma coleção pode conter vários documentos. Por não haver um esquema fixo, cada documento pode ter um número e um tipo de campo diferente, o que contribui para a flexibilidade. Um exemplo desse tipo é MongoDB."
   ]
  },
  {
   "cell_type": "markdown",
   "metadata": {},
   "source": [
    "# INSERIR DADOS NO BANDO DE DADOS <H6>\n",
    "\n",
    "    - "
   ]
  }
 ],
 "metadata": {
  "kernelspec": {
   "display_name": "Python 3",
   "language": "python",
   "name": "python3"
  },
  "language_info": {
   "codemirror_mode": {
    "name": "ipython",
    "version": 3
   },
   "file_extension": ".py",
   "mimetype": "text/x-python",
   "name": "python",
   "nbconvert_exporter": "python",
   "pygments_lexer": "ipython3",
   "version": "3.9.2"
  }
 },
 "nbformat": 4,
 "nbformat_minor": 2
}
