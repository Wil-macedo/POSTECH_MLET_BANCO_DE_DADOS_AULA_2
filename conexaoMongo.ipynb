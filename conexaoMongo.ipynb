{
 "cells": [
  {
   "cell_type": "markdown",
   "metadata": {},
   "source": [
    "# PRIMEIRA CONEXÃO COM MONGO DB <H6>"
   ]
  },
  {
   "cell_type": "markdown",
   "metadata": {},
   "source": [
    "# SELECT <h6>"
   ]
  },
  {
   "cell_type": "code",
   "execution_count": 2,
   "metadata": {},
   "outputs": [],
   "source": [
    "from pymongo import MongoClient\n",
    "\n",
    "# Conexão com o MongoDB\n",
    "client = MongoClient(\"mongodb://localhost:27017/\")\n",
    "\n",
    "# Selecionar o banco de dados\n",
    "db = client[\"migrationMySQL\"]\n",
    "\n",
    "# Selecionar a coleção\n",
    "collection = db[\"address\"]\n",
    "\n",
    "# Seleciona todos os documentos na coleção\n",
    "result = collection.find({\"nome\":\"willian\"}, {\"_id\":0}).sort({\"localidade\":-1})  # 1 CRESCENTE & -1 DESCRESCENTE.\n",
    "\n",
    "\n",
    "# Iterar sobre os resultados\n",
    "for document in result:\n",
    "    print(document)\n"
   ]
  },
  {
   "cell_type": "code",
   "execution_count": 2,
   "metadata": {},
   "outputs": [],
   "source": [
    "# Seleciona documentos e retorna apenas os campos especificados\n",
    "query = {\"actorId\": 1}\n",
    "\n",
    "result = collection.find(query)\n",
    "\n",
    "for document in result:\n",
    "    print(document)\n"
   ]
  },
  {
   "cell_type": "markdown",
   "metadata": {},
   "source": [
    "# INSERT <h6>"
   ]
  },
  {
   "cell_type": "code",
   "execution_count": 5,
   "metadata": {},
   "outputs": [],
   "source": [
    "from pymongo import MongoClient\n",
    "\n",
    "# Conexão com o MongoDB\n",
    "client = MongoClient(\"mongodb://localhost:27017/\")\n",
    "\n",
    "# Selecionar o banco de dados\n",
    "db = client[\"migrationMySQL\"]\n",
    "\n",
    "# Selecionar a coleção\n",
    "collection = db[\"address\"]\n",
    "\n",
    "# Seleciona todos os documentos na coleção\n",
    "result = collection.insert_one({\"nome\":\"willian\", \"nacionalidade\":\"Brasileira\"})\n"
   ]
  },
  {
   "cell_type": "markdown",
   "metadata": {},
   "source": [
    "# UPDATE <h6>"
   ]
  },
  {
   "cell_type": "code",
   "execution_count": 5,
   "metadata": {},
   "outputs": [],
   "source": [
    "from pymongo import MongoClient\n",
    "\n",
    "# Conexão com o MongoDB\n",
    "client = MongoClient(\"mongodb://localhost:27017/\")\n",
    "\n",
    "# Selecionar o banco de dados\n",
    "db = client[\"migrationMySQL\"]\n",
    "\n",
    "# Selecionar a coleção\n",
    "collection = db[\"address\"]\n",
    "\n",
    "# {'_id': ObjectId('66cd173f952dd520cf40e6a5'), 'nome': 'willian', 'localidade': 'Cotia'}\n",
    "# {'_id': ObjectId('66cd1818952dd520cf40e6a6'), 'nome': 'willian', 'localidade': 'Embu das Artes'}\n",
    "# {'_id': ObjectId('66cd21dd68b918bbf076c614'), 'nome': 'willian', 'nacionalidade': 'Brasileira'}\n",
    "\n",
    "update = {\"$set\":{\"nome\":\"willian\"}}\n",
    "result = collection.update_one({\"nome\":\"Willian\"}, update)\n",
    "\n",
    "\n"
   ]
  },
  {
   "cell_type": "code",
   "execution_count": 7,
   "metadata": {},
   "outputs": [
    {
     "name": "stdout",
     "output_type": "stream",
     "text": [
      "{'nome': 'willian', 'localidade': 'Cotia'}\n",
      "{'nome': 'willian'}\n"
     ]
    }
   ],
   "source": [
    "# Seleciona todos os documentos na coleção\n",
    "result = collection.find({\"nome\":\"willian\"}, {\"_id\":0}).sort({\"localidade\":-1})  # 1 CRESCENTE & -1 DESCRESCENTE.\n",
    "\n",
    "\n",
    "# Iterar sobre os resultados\n",
    "for document in result:\n",
    "    print(document)"
   ]
  },
  {
   "cell_type": "markdown",
   "metadata": {},
   "source": [
    "# EXCLUINDO <H6>"
   ]
  },
  {
   "cell_type": "code",
   "execution_count": 11,
   "metadata": {},
   "outputs": [],
   "source": [
    "from pymongo import MongoClient\n",
    "\n",
    "# Conexão com o MongoDB\n",
    "client = MongoClient(\"mongodb://localhost:27017/\")\n",
    "\n",
    "# Selecionar o banco de dados\n",
    "db = client[\"migrationMySQL\"]\n",
    "\n",
    "# Selecionar a coleção\n",
    "collection = db[\"address\"]\n",
    "\n",
    "# {'_id': ObjectId('66cd173f952dd520cf40e6a5'), 'nome': 'willian', 'localidade': 'Cotia'}\n",
    "# {'_id': ObjectId('66cd1818952dd520cf40e6a6'), 'nome': 'willian', 'localidade': 'Embu das Artes'}\n",
    "# {'_id': ObjectId('66cd21dd68b918bbf076c614'), 'nome': 'willian', 'nacionalidade': 'Brasileira'}\n",
    "\n",
    "result = collection.delete_many({\"nome\":\"willian\"})\n",
    "\n",
    "\n"
   ]
  },
  {
   "cell_type": "markdown",
   "metadata": {},
   "source": [
    "# No console do Mongo utilizamos praticamente os mesmos comandos, sendo que é possível executar comandos de shell:\n",
    "\n",
    "    * db.<nome_collection>.find() == Select * from x.\n",
    "    * db.<nome_collection>.insertOne({\"teste\":1}) --> Insere um dado na collection.\n",
    "    * db.<nome_collection>.insertMany([{\"teste1\":1},{\"teste2\":2},{\"teste3\":3}]) --> Insere mais de um dado na colection.\n",
    "\n",
    "# BANCO > COLLECTION > DOCUMENTOS <H5>"
   ]
  },
  {
   "cell_type": "markdown",
   "metadata": {},
   "source": [
    "# EXEMPLO DE CONSULTAS (SAKILA):\n",
    "\n",
    "{$or:[{amount:{$eq:NumberDecimal('5')}}, {amount:{$eq:NumberDecimal('9.99')}}]}\n",
    "\n",
    "MESMA CONSULTA NO SQL:\n",
    "\n",
    "select * from payment where amount = 9.99 or amount = 5;\n"
   ]
  }
 ],
 "metadata": {
  "kernelspec": {
   "display_name": "Python 3",
   "language": "python",
   "name": "python3"
  },
  "language_info": {
   "codemirror_mode": {
    "name": "ipython",
    "version": 3
   },
   "file_extension": ".py",
   "mimetype": "text/x-python",
   "name": "python",
   "nbconvert_exporter": "python",
   "pygments_lexer": "ipython3",
   "version": "3.9.2"
  }
 },
 "nbformat": 4,
 "nbformat_minor": 2
}
